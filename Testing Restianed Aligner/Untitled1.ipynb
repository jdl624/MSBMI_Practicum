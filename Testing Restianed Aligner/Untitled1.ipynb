{
 "cells": [
  {
   "cell_type": "code",
   "execution_count": 12,
   "id": "547432e0",
   "metadata": {},
   "outputs": [
    {
     "name": "stderr",
     "output_type": "stream",
     "text": [
      "Failed to bootstrap the artifact.\n",
      "\n",
      "Possible solutions:\n",
      "* Double check the endpoint for correctness (https://search.maven.org/).\n",
      "* Add needed repositories to ~/.jgorc [repositories] block (see README).\n",
      "* Try with an explicit version number (release metadata might be wrong).\n",
      "\n",
      "Full Maven error output:\n",
      "\n"
     ]
    },
    {
     "ename": "CalledProcessError",
     "evalue": "Command '('/Users/jonlinks/Downloads/apache-maven-3.9.0/bin/mvn', '-B', '-f', '/Users/jonlinks/.jgo/ome/formats-gpl/RELEASE/78ddb244d6f6d2ec77229a45391e9d42351f409a977e32387f6c67f291f38f78/pom.xml', 'dependency:resolve')' returned non-zero exit status 1.",
     "output_type": "error",
     "traceback": [
      "\u001b[0;31m---------------------------------------------------------------------------\u001b[0m",
      "\u001b[0;31mCalledProcessError\u001b[0m                        Traceback (most recent call last)",
      "Cell \u001b[0;32mIn[12], line 7\u001b[0m\n\u001b[1;32m      4\u001b[0m registered_slide_dst_dir \u001b[38;5;241m=\u001b[39m \u001b[38;5;124m\"\u001b[39m\u001b[38;5;124m./slide_registration_example/registered_slides\u001b[39m\u001b[38;5;124m\"\u001b[39m\n\u001b[1;32m      6\u001b[0m \u001b[38;5;66;03m# Create a Valis object and use it to register the slides in slide_src_dir\u001b[39;00m\n\u001b[0;32m----> 7\u001b[0m registrar \u001b[38;5;241m=\u001b[39m \u001b[43mregistration\u001b[49m\u001b[38;5;241;43m.\u001b[39;49m\u001b[43mValis\u001b[49m\u001b[43m(\u001b[49m\u001b[43mslide_src_dir\u001b[49m\u001b[43m,\u001b[49m\u001b[43m \u001b[49m\u001b[43mresults_dst_dir\u001b[49m\u001b[43m)\u001b[49m\n\u001b[1;32m      8\u001b[0m rigid_registrar, non_rigid_registrar, error_df \u001b[38;5;241m=\u001b[39m registrar\u001b[38;5;241m.\u001b[39mregister()\n",
      "File \u001b[0;32m~/opt/miniconda3/envs/valis-wsi/lib/python3.10/site-packages/valis/registration.py:1819\u001b[0m, in \u001b[0;36mValis.__init__\u001b[0;34m(self, src_dir, dst_dir, series, name, img_type, feature_detector_cls, transformer_cls, affine_optimizer_cls, similarity_metric, match_filter_method, imgs_ordered, non_rigid_registrar_cls, non_rigid_reg_params, compose_non_rigid, img_list, reference_img_f, align_to_reference, do_rigid, crop, create_masks, check_for_reflections, resolution_xyu, slide_dims_dict_wh, max_image_dim_px, max_processed_image_dim_px, max_non_rigid_registartion_dim_px, thumbnail_size, norm_method, qt_emitter)\u001b[0m\n\u001b[1;32m   1817\u001b[0m     \u001b[38;5;28mself\u001b[39m\u001b[38;5;241m.\u001b[39moriginal_img_list \u001b[38;5;241m=\u001b[39m img_list\n\u001b[1;32m   1818\u001b[0m \u001b[38;5;28;01melse\u001b[39;00m:\n\u001b[0;32m-> 1819\u001b[0m     \u001b[38;5;28;43mself\u001b[39;49m\u001b[38;5;241;43m.\u001b[39;49m\u001b[43mget_imgs_in_dir\u001b[49m\u001b[43m(\u001b[49m\u001b[43m)\u001b[49m\n\u001b[1;32m   1820\u001b[0m \u001b[38;5;28mself\u001b[39m\u001b[38;5;241m.\u001b[39mset_dst_paths()\n\u001b[1;32m   1822\u001b[0m \u001b[38;5;66;03m# Some information may already be provided #\u001b[39;00m\n",
      "File \u001b[0;32m~/opt/miniconda3/envs/valis-wsi/lib/python3.10/site-packages/valis/registration.py:1964\u001b[0m, in \u001b[0;36mValis.get_imgs_in_dir\u001b[0;34m(self)\u001b[0m\n\u001b[1;32m   1962\u001b[0m \u001b[38;5;28;01mfor\u001b[39;00m f \u001b[38;5;129;01min\u001b[39;00m full_path_list:\n\u001b[1;32m   1963\u001b[0m     \u001b[38;5;28;01mif\u001b[39;00m os\u001b[38;5;241m.\u001b[39mpath\u001b[38;5;241m.\u001b[39misfile(f):\n\u001b[0;32m-> 1964\u001b[0m         \u001b[38;5;28;01mif\u001b[39;00m \u001b[43mslide_tools\u001b[49m\u001b[38;5;241;43m.\u001b[39;49m\u001b[43mget_img_type\u001b[49m\u001b[43m(\u001b[49m\u001b[43mf\u001b[49m\u001b[43m)\u001b[49m \u001b[38;5;129;01mis\u001b[39;00m \u001b[38;5;129;01mnot\u001b[39;00m \u001b[38;5;28;01mNone\u001b[39;00m:\n\u001b[1;32m   1965\u001b[0m             \u001b[38;5;28mself\u001b[39m\u001b[38;5;241m.\u001b[39moriginal_img_list\u001b[38;5;241m.\u001b[39mappend(f)\n\u001b[1;32m   1966\u001b[0m             img_names\u001b[38;5;241m.\u001b[39mappend(valtils\u001b[38;5;241m.\u001b[39mget_name(f))\n",
      "File \u001b[0;32m~/opt/miniconda3/envs/valis-wsi/lib/python3.10/site-packages/valis/slide_tools.py:147\u001b[0m, in \u001b[0;36mget_img_type\u001b[0;34m(img_f)\u001b[0m\n\u001b[1;32m    145\u001b[0m what_img \u001b[38;5;241m=\u001b[39m imghdr\u001b[38;5;241m.\u001b[39mwhat(img_f)\n\u001b[1;32m    146\u001b[0m \u001b[38;5;28;01mif\u001b[39;00m slide_io\u001b[38;5;241m.\u001b[39mBF_READABLE_FORMATS \u001b[38;5;129;01mis\u001b[39;00m \u001b[38;5;28;01mNone\u001b[39;00m:\n\u001b[0;32m--> 147\u001b[0m     \u001b[43mslide_io\u001b[49m\u001b[38;5;241;43m.\u001b[39;49m\u001b[43minit_jvm\u001b[49m\u001b[43m(\u001b[49m\u001b[43m)\u001b[49m\n\u001b[1;32m    149\u001b[0m can_use_bf \u001b[38;5;241m=\u001b[39m f_extension \u001b[38;5;129;01min\u001b[39;00m slide_io\u001b[38;5;241m.\u001b[39mBF_READABLE_FORMATS\n\u001b[1;32m    150\u001b[0m can_use_openslide \u001b[38;5;241m=\u001b[39m slide_io\u001b[38;5;241m.\u001b[39mcheck_to_use_openslide(img_f)\n",
      "File \u001b[0;32m~/opt/miniconda3/envs/valis-wsi/lib/python3.10/site-packages/valis/slide_io.py:205\u001b[0m, in \u001b[0;36minit_jvm\u001b[0;34m(jar, mem_gb)\u001b[0m\n\u001b[1;32m    203\u001b[0m \u001b[38;5;28;01melse\u001b[39;00m:\n\u001b[1;32m    204\u001b[0m     scyjava\u001b[38;5;241m.\u001b[39mconfig\u001b[38;5;241m.\u001b[39mendpoints\u001b[38;5;241m.\u001b[39mappend(\u001b[38;5;124m'\u001b[39m\u001b[38;5;124mome:formats-gpl\u001b[39m\u001b[38;5;124m'\u001b[39m)\n\u001b[0;32m--> 205\u001b[0m     \u001b[43mscyjava\u001b[49m\u001b[38;5;241;43m.\u001b[39;49m\u001b[43mstart_jvm\u001b[49m\u001b[43m(\u001b[49m\u001b[43m[\u001b[49m\u001b[38;5;124;43mf\u001b[39;49m\u001b[38;5;124;43m\"\u001b[39;49m\u001b[38;5;124;43m-Xmx\u001b[39;49m\u001b[38;5;132;43;01m{\u001b[39;49;00m\u001b[43mmem_gb\u001b[49m\u001b[38;5;132;43;01m}\u001b[39;49;00m\u001b[38;5;124;43mG\u001b[39;49m\u001b[38;5;124;43m\"\u001b[39;49m\u001b[43m]\u001b[49m\u001b[43m)\u001b[49m\n\u001b[1;32m    207\u001b[0m loci \u001b[38;5;241m=\u001b[39m jpype\u001b[38;5;241m.\u001b[39mJPackage(\u001b[38;5;124m\"\u001b[39m\u001b[38;5;124mloci\u001b[39m\u001b[38;5;124m\"\u001b[39m)\n\u001b[1;32m    208\u001b[0m ome \u001b[38;5;241m=\u001b[39m jpype\u001b[38;5;241m.\u001b[39mJPackage(\u001b[38;5;124m\"\u001b[39m\u001b[38;5;124mome\u001b[39m\u001b[38;5;124m\"\u001b[39m)\n",
      "File \u001b[0;32m~/opt/miniconda3/envs/valis-wsi/lib/python3.10/site-packages/scyjava/_java.py:177\u001b[0m, in \u001b[0;36mstart_jvm\u001b[0;34m(options)\u001b[0m\n\u001b[1;32m    175\u001b[0m     endpoints \u001b[38;5;241m=\u001b[39m endpoints[:\u001b[38;5;241m1\u001b[39m] \u001b[38;5;241m+\u001b[39m \u001b[38;5;28msorted\u001b[39m(endpoints[\u001b[38;5;241m1\u001b[39m:])\n\u001b[1;32m    176\u001b[0m     _logger\u001b[38;5;241m.\u001b[39mdebug(\u001b[38;5;124m\"\u001b[39m\u001b[38;5;124mUsing endpoints \u001b[39m\u001b[38;5;132;01m%s\u001b[39;00m\u001b[38;5;124m\"\u001b[39m, endpoints)\n\u001b[0;32m--> 177\u001b[0m     _, workspace \u001b[38;5;241m=\u001b[39m \u001b[43mjgo\u001b[49m\u001b[38;5;241;43m.\u001b[39;49m\u001b[43mresolve_dependencies\u001b[49m\u001b[43m(\u001b[49m\n\u001b[1;32m    178\u001b[0m \u001b[43m        \u001b[49m\u001b[38;5;124;43m\"\u001b[39;49m\u001b[38;5;124;43m+\u001b[39;49m\u001b[38;5;124;43m\"\u001b[39;49m\u001b[38;5;241;43m.\u001b[39;49m\u001b[43mjoin\u001b[49m\u001b[43m(\u001b[49m\u001b[43mendpoints\u001b[49m\u001b[43m)\u001b[49m\u001b[43m,\u001b[49m\n\u001b[1;32m    179\u001b[0m \u001b[43m        \u001b[49m\u001b[43mm2_repo\u001b[49m\u001b[38;5;241;43m=\u001b[39;49m\u001b[43mscyjava\u001b[49m\u001b[38;5;241;43m.\u001b[39;49m\u001b[43mconfig\u001b[49m\u001b[38;5;241;43m.\u001b[39;49m\u001b[43mget_m2_repo\u001b[49m\u001b[43m(\u001b[49m\u001b[43m)\u001b[49m\u001b[43m,\u001b[49m\n\u001b[1;32m    180\u001b[0m \u001b[43m        \u001b[49m\u001b[43mcache_dir\u001b[49m\u001b[38;5;241;43m=\u001b[39;49m\u001b[43mscyjava\u001b[49m\u001b[38;5;241;43m.\u001b[39;49m\u001b[43mconfig\u001b[49m\u001b[38;5;241;43m.\u001b[39;49m\u001b[43mget_cache_dir\u001b[49m\u001b[43m(\u001b[49m\u001b[43m)\u001b[49m\u001b[43m,\u001b[49m\n\u001b[1;32m    181\u001b[0m \u001b[43m        \u001b[49m\u001b[43mmanage_dependencies\u001b[49m\u001b[38;5;241;43m=\u001b[39;49m\u001b[43mscyjava\u001b[49m\u001b[38;5;241;43m.\u001b[39;49m\u001b[43mconfig\u001b[49m\u001b[38;5;241;43m.\u001b[39;49m\u001b[43mget_manage_deps\u001b[49m\u001b[43m(\u001b[49m\u001b[43m)\u001b[49m\u001b[43m,\u001b[49m\n\u001b[1;32m    182\u001b[0m \u001b[43m        \u001b[49m\u001b[43mrepositories\u001b[49m\u001b[38;5;241;43m=\u001b[39;49m\u001b[43mrepositories\u001b[49m\u001b[43m,\u001b[49m\n\u001b[1;32m    183\u001b[0m \u001b[43m        \u001b[49m\u001b[43mverbose\u001b[49m\u001b[38;5;241;43m=\u001b[39;49m\u001b[43mscyjava\u001b[49m\u001b[38;5;241;43m.\u001b[39;49m\u001b[43mconfig\u001b[49m\u001b[38;5;241;43m.\u001b[39;49m\u001b[43mget_verbose\u001b[49m\u001b[43m(\u001b[49m\u001b[43m)\u001b[49m\u001b[43m,\u001b[49m\n\u001b[1;32m    184\u001b[0m \u001b[43m        \u001b[49m\u001b[43mshortcuts\u001b[49m\u001b[38;5;241;43m=\u001b[39;49m\u001b[43mscyjava\u001b[49m\u001b[38;5;241;43m.\u001b[39;49m\u001b[43mconfig\u001b[49m\u001b[38;5;241;43m.\u001b[39;49m\u001b[43mget_shortcuts\u001b[49m\u001b[43m(\u001b[49m\u001b[43m)\u001b[49m\u001b[43m,\u001b[49m\n\u001b[1;32m    185\u001b[0m \u001b[43m    \u001b[49m\u001b[43m)\u001b[49m\n\u001b[1;32m    186\u001b[0m     jpype\u001b[38;5;241m.\u001b[39maddClassPath(os\u001b[38;5;241m.\u001b[39mpath\u001b[38;5;241m.\u001b[39mjoin(workspace, \u001b[38;5;124m\"\u001b[39m\u001b[38;5;124m*\u001b[39m\u001b[38;5;124m\"\u001b[39m))\n\u001b[1;32m    188\u001b[0m \u001b[38;5;66;03m# HACK: Try to set JAVA_HOME if it isn't already.\u001b[39;00m\n",
      "File \u001b[0;32m~/opt/miniconda3/envs/valis-wsi/lib/python3.10/site-packages/jgo/jgo.py:670\u001b[0m, in \u001b[0;36mresolve_dependencies\u001b[0;34m(endpoint_string, cache_dir, m2_repo, link_type, update_cache, force_update, manage_dependencies, repositories, shortcuts, verbose)\u001b[0m\n\u001b[1;32m    667\u001b[0m             _logger\u001b[38;5;241m.\u001b[39mdebug(\u001b[38;5;124m\"\u001b[39m\u001b[38;5;130;01m\\t\u001b[39;00m\u001b[38;5;132;01m%s\u001b[39;00m\u001b[38;5;124m\"\u001b[39m, line)\n\u001b[1;32m    668\u001b[0m     _logger\u001b[38;5;241m.\u001b[39merror(\u001b[38;5;124m\"\u001b[39m\u001b[38;5;124m\"\u001b[39m)\n\u001b[0;32m--> 670\u001b[0m     \u001b[38;5;28;01mraise\u001b[39;00m e\n\u001b[1;32m    672\u001b[0m info_regex \u001b[38;5;241m=\u001b[39m re\u001b[38;5;241m.\u001b[39mcompile(\u001b[38;5;124m\"\u001b[39m\u001b[38;5;124m^.*\u001b[39m\u001b[38;5;130;01m\\\\\u001b[39;00m\u001b[38;5;124m[[A-Z]+\u001b[39m\u001b[38;5;130;01m\\\\\u001b[39;00m\u001b[38;5;124m] *\u001b[39m\u001b[38;5;124m\"\u001b[39m)\n\u001b[1;32m    673\u001b[0m relevant_jars \u001b[38;5;241m=\u001b[39m []\n",
      "File \u001b[0;32m~/opt/miniconda3/envs/valis-wsi/lib/python3.10/site-packages/jgo/jgo.py:641\u001b[0m, in \u001b[0;36mresolve_dependencies\u001b[0;34m(endpoint_string, cache_dir, m2_repo, link_type, update_cache, force_update, manage_dependencies, repositories, shortcuts, verbose)\u001b[0m\n\u001b[1;32m    639\u001b[0m \u001b[38;5;28;01mtry\u001b[39;00m:\n\u001b[1;32m    640\u001b[0m     mvn \u001b[38;5;241m=\u001b[39m executable_path_or_raise(\u001b[38;5;124m\"\u001b[39m\u001b[38;5;124mmvn\u001b[39m\u001b[38;5;124m\"\u001b[39m)\n\u001b[0;32m--> 641\u001b[0m     mvn_out \u001b[38;5;241m=\u001b[39m \u001b[43mrun_and_combine_outputs\u001b[49m\u001b[43m(\u001b[49m\u001b[43mmvn\u001b[49m\u001b[43m,\u001b[49m\u001b[43m \u001b[49m\u001b[38;5;241;43m*\u001b[39;49m\u001b[43mmvn_args\u001b[49m\u001b[43m)\u001b[49m\n\u001b[1;32m    642\u001b[0m \u001b[38;5;28;01mexcept\u001b[39;00m subprocess\u001b[38;5;241m.\u001b[39mCalledProcessError \u001b[38;5;28;01mas\u001b[39;00m e:\n\u001b[1;32m    643\u001b[0m     _logger\u001b[38;5;241m.\u001b[39merror(\u001b[38;5;124m\"\u001b[39m\u001b[38;5;124mFailed to bootstrap the artifact.\u001b[39m\u001b[38;5;124m\"\u001b[39m)\n",
      "File \u001b[0;32m~/opt/miniconda3/envs/valis-wsi/lib/python3.10/site-packages/jgo/jgo.py:270\u001b[0m, in \u001b[0;36mrun_and_combine_outputs\u001b[0;34m(command, *args)\u001b[0m\n\u001b[1;32m    268\u001b[0m command_string \u001b[38;5;241m=\u001b[39m (command,) \u001b[38;5;241m+\u001b[39m args\n\u001b[1;32m    269\u001b[0m _logger\u001b[38;5;241m.\u001b[39mdebug(\u001b[38;5;124mf\u001b[39m\u001b[38;5;124m\"\u001b[39m\u001b[38;5;124mExecuting: \u001b[39m\u001b[38;5;132;01m{\u001b[39;00mcommand_string\u001b[38;5;132;01m}\u001b[39;00m\u001b[38;5;124m\"\u001b[39m)\n\u001b[0;32m--> 270\u001b[0m \u001b[38;5;28;01mreturn\u001b[39;00m \u001b[43msubprocess\u001b[49m\u001b[38;5;241;43m.\u001b[39;49m\u001b[43mcheck_output\u001b[49m\u001b[43m(\u001b[49m\u001b[43mcommand_string\u001b[49m\u001b[43m,\u001b[49m\u001b[43m \u001b[49m\u001b[43mstderr\u001b[49m\u001b[38;5;241;43m=\u001b[39;49m\u001b[43msubprocess\u001b[49m\u001b[38;5;241;43m.\u001b[39;49m\u001b[43mSTDOUT\u001b[49m\u001b[43m)\u001b[49m\n",
      "File \u001b[0;32m~/opt/miniconda3/envs/valis-wsi/lib/python3.10/subprocess.py:421\u001b[0m, in \u001b[0;36mcheck_output\u001b[0;34m(timeout, *popenargs, **kwargs)\u001b[0m\n\u001b[1;32m    418\u001b[0m         empty \u001b[38;5;241m=\u001b[39m \u001b[38;5;124mb\u001b[39m\u001b[38;5;124m'\u001b[39m\u001b[38;5;124m'\u001b[39m\n\u001b[1;32m    419\u001b[0m     kwargs[\u001b[38;5;124m'\u001b[39m\u001b[38;5;124minput\u001b[39m\u001b[38;5;124m'\u001b[39m] \u001b[38;5;241m=\u001b[39m empty\n\u001b[0;32m--> 421\u001b[0m \u001b[38;5;28;01mreturn\u001b[39;00m \u001b[43mrun\u001b[49m\u001b[43m(\u001b[49m\u001b[38;5;241;43m*\u001b[39;49m\u001b[43mpopenargs\u001b[49m\u001b[43m,\u001b[49m\u001b[43m \u001b[49m\u001b[43mstdout\u001b[49m\u001b[38;5;241;43m=\u001b[39;49m\u001b[43mPIPE\u001b[49m\u001b[43m,\u001b[49m\u001b[43m \u001b[49m\u001b[43mtimeout\u001b[49m\u001b[38;5;241;43m=\u001b[39;49m\u001b[43mtimeout\u001b[49m\u001b[43m,\u001b[49m\u001b[43m \u001b[49m\u001b[43mcheck\u001b[49m\u001b[38;5;241;43m=\u001b[39;49m\u001b[38;5;28;43;01mTrue\u001b[39;49;00m\u001b[43m,\u001b[49m\n\u001b[1;32m    422\u001b[0m \u001b[43m           \u001b[49m\u001b[38;5;241;43m*\u001b[39;49m\u001b[38;5;241;43m*\u001b[39;49m\u001b[43mkwargs\u001b[49m\u001b[43m)\u001b[49m\u001b[38;5;241m.\u001b[39mstdout\n",
      "File \u001b[0;32m~/opt/miniconda3/envs/valis-wsi/lib/python3.10/subprocess.py:526\u001b[0m, in \u001b[0;36mrun\u001b[0;34m(input, capture_output, timeout, check, *popenargs, **kwargs)\u001b[0m\n\u001b[1;32m    524\u001b[0m     retcode \u001b[38;5;241m=\u001b[39m process\u001b[38;5;241m.\u001b[39mpoll()\n\u001b[1;32m    525\u001b[0m     \u001b[38;5;28;01mif\u001b[39;00m check \u001b[38;5;129;01mand\u001b[39;00m retcode:\n\u001b[0;32m--> 526\u001b[0m         \u001b[38;5;28;01mraise\u001b[39;00m CalledProcessError(retcode, process\u001b[38;5;241m.\u001b[39margs,\n\u001b[1;32m    527\u001b[0m                                  output\u001b[38;5;241m=\u001b[39mstdout, stderr\u001b[38;5;241m=\u001b[39mstderr)\n\u001b[1;32m    528\u001b[0m \u001b[38;5;28;01mreturn\u001b[39;00m CompletedProcess(process\u001b[38;5;241m.\u001b[39margs, retcode, stdout, stderr)\n",
      "\u001b[0;31mCalledProcessError\u001b[0m: Command '('/Users/jonlinks/Downloads/apache-maven-3.9.0/bin/mvn', '-B', '-f', '/Users/jonlinks/.jgo/ome/formats-gpl/RELEASE/78ddb244d6f6d2ec77229a45391e9d42351f409a977e32387f6c67f291f38f78/pom.xml', 'dependency:resolve')' returned non-zero exit status 1."
     ]
    }
   ],
   "source": [
    "from valis import registration\n",
    "slide_src_dir = \"/Users/jonlinks/Desktop/Testing Restianed Aligner/img\"\n",
    "results_dst_dir = \"/Users/jonlinks/Desktop/Testing Restianed Aligner/img_proc\"\n",
    "registered_slide_dst_dir = \"./slide_registration_example/registered_slides\"\n",
    "\n",
    "# Create a Valis object and use it to register the slides in slide_src_dir\n",
    "registrar = registration.Valis(slide_src_dir, results_dst_dir)\n",
    "rigid_registrar, non_rigid_registrar, error_df = registrar.register()"
   ]
  },
  {
   "cell_type": "code",
   "execution_count": 8,
   "id": "356e6a36",
   "metadata": {},
   "outputs": [],
   "source": [
    "! export JAVA_HOME=/usr/libexec/java_home"
   ]
  },
  {
   "cell_type": "code",
   "execution_count": 9,
   "id": "f486bbec",
   "metadata": {},
   "outputs": [
    {
     "name": "stdout",
     "output_type": "stream",
     "text": [
      "/usr/libexec/java_home\r\n"
     ]
    }
   ],
   "source": [
    "! echo $JAVA_HOME"
   ]
  },
  {
   "cell_type": "code",
   "execution_count": 10,
   "id": "0d73bdff",
   "metadata": {},
   "outputs": [],
   "source": [
    "! export PATH='/Users/jonlinks/Downloads/apache-maven-3.9.0/bin':$PATH"
   ]
  },
  {
   "cell_type": "code",
   "execution_count": 13,
   "id": "6248f59c",
   "metadata": {},
   "outputs": [
    {
     "name": "stdout",
     "output_type": "stream",
     "text": [
      "The JAVA_HOME environment variable is not defined correctly,\r\n",
      "this environment variable is needed to run this program.\r\n"
     ]
    }
   ],
   "source": [
    "! mvn"
   ]
  },
  {
   "cell_type": "code",
   "execution_count": null,
   "id": "4a89cf15",
   "metadata": {},
   "outputs": [],
   "source": []
  }
 ],
 "metadata": {
  "kernelspec": {
   "display_name": "Python 3 (ipykernel)",
   "language": "python",
   "name": "python3"
  },
  "language_info": {
   "codemirror_mode": {
    "name": "ipython",
    "version": 3
   },
   "file_extension": ".py",
   "mimetype": "text/x-python",
   "name": "python",
   "nbconvert_exporter": "python",
   "pygments_lexer": "ipython3",
   "version": "3.10.9"
  }
 },
 "nbformat": 4,
 "nbformat_minor": 5
}
