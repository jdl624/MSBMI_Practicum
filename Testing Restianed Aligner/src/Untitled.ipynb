{
 "cells": [
  {
   "cell_type": "code",
   "execution_count": 13,
   "metadata": {},
   "outputs": [],
   "source": [
    "from wsi_registration import TissueDetector, MatcherParameters, WSI_Matcher\n",
    "import openslide\n"
   ]
  },
  {
   "cell_type": "code",
   "execution_count": 6,
   "metadata": {},
   "outputs": [],
   "source": [
    "fixed_wsi = \"/Users/jonlinks/Desktop/Testing Restianed Aligner/img/19652.tif\"  # file name of your fixed (template) whole slide image\n",
    "float_wsi = \"/Users/jonlinks/Desktop/Testing Restianed Aligner/img/19653_e7.tif\"  # file name of your float (moving) whole slide image\n",
    "# define the tissue detector, so the patches can be sampled\n",
    "tissue_detector = TissueDetector(\"LAB_Threshold\", threshold=80) # option 1\n",
    "# tissue_detector = TissueDetector(\"GNB\", threshold=0.5)    # option 2\n",
    "matcher_parameters = MatcherParameters()  # use the default parameters\n",
    "matcher = WSI_Matcher(tissue_detector, matcher_parameters)\n",
    "offset = matcher.match(fixed_wsi, float_wsi)"
   ]
  },
  {
   "cell_type": "code",
   "execution_count": 15,
   "metadata": {},
   "outputs": [
    {
     "name": "stdout",
     "output_type": "stream",
     "text": [
      "<_PropertyMap {'openslide.comment': '{\"shape\": [32768, 32768, 4]}', 'openslide.level-count': '1', 'openslide.level[0].downsample': '1', 'openslide.level[0].height': '32768', 'openslide.level[0].tile-height': '256', 'openslide.level[0].tile-width': '256', 'openslide.level[0].width': '32768', 'openslide.vendor': 'generic-tiff', 'tiff.ImageDescription': '{\"shape\": [32768, 32768, 4]}', 'tiff.ResolutionUnit': 'none', 'tiff.Software': 'tifffile.py', 'tiff.XResolution': '1', 'tiff.YResolution': '1'}>\n"
     ]
    }
   ],
   "source": [
    "import openslide\n",
    "from openslide import open_slide\n",
    "\n",
    "fixed_wsi_obj = open_slide(fixed_wsi)\n",
    "\n",
    "fixed_wsi_obj_props = fixed_wsi_obj.properties\n",
    "print(fixed_wsi_obj_props)"
   ]
  }
 ],
 "metadata": {
  "interpreter": {
   "hash": "854b324e2e428ae065d5ef09ab6fbd8cbc36eaf767d6500ca3961cda01535522"
  },
  "kernelspec": {
   "display_name": "Python 3.11.0 64-bit",
   "name": "python3"
  },
  "language_info": {
   "codemirror_mode": {
    "name": "ipython",
    "version": 3
   },
   "file_extension": ".py",
   "mimetype": "text/x-python",
   "name": "python",
   "nbconvert_exporter": "python",
   "pygments_lexer": "ipython3",
   "version": "3.11.0"
  }
 },
 "nbformat": 4,
 "nbformat_minor": 5
}