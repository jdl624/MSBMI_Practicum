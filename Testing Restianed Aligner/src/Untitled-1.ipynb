{
 "cells": [
  {
   "cell_type": "code",
   "execution_count": 7,
   "metadata": {},
   "outputs": [
    {
     "name": "stdout",
     "output_type": "stream",
     "text": [
      "(nan, nan)\n"
     ]
    },
    {
     "name": "stderr",
     "output_type": "stream",
     "text": [
      "/Users/jonlinks/opt/miniconda3/envs/newWSIreg/lib/python3.11/site-packages/numpy/core/fromnumeric.py:3464: RuntimeWarning: Mean of empty slice.\n",
      "  return _methods._mean(a, axis=axis, dtype=dtype,\n",
      "/Users/jonlinks/opt/miniconda3/envs/newWSIreg/lib/python3.11/site-packages/numpy/core/_methods.py:184: RuntimeWarning: invalid value encountered in divide\n",
      "  ret = um.true_divide(\n"
     ]
    }
   ],
   "source": [
    "from wsi_registration import TissueDetector, MatcherParameters, WSI_Matcher\n",
    "import logging\n",
    "import math\n",
    "import openslide\n",
    "import numpy as np\n",
    "from skimage.color import rgb2lab\n",
    "import cv2\n",
    "import matplotlib.pyplot as plt\n",
    "\n",
    "fixed_wsi = \"/Users/jonlinks/Desktop/Testing Restianed Aligner/img/19652.tif\"  # file name of your fixed (template) whole slide image\n",
    "float_wsi = \"/Users/jonlinks/Desktop/Testing Restianed Aligner/img/19653_e7.tif\"  # file name of your float (moving) whole slide image\n",
    "# define the tissue detector, so the patches can be sampled\n",
    "tissue_detector = TissueDetector(\"LAB_Threshold\", threshold=80) # option 1\n",
    "# tissue_detector = TissueDetector(\"GNB\", threshold=0.5)    # option 2\n",
    "matcher_parameters = MatcherParameters(6, 20, 2000)  # use the default parameters\n",
    "matcher = WSI_Matcher(tissue_detector, matcher_parameters)\n",
    "offset = matcher.match(fixed_wsi, float_wsi)\n",
    "print(offset)"
   ]
  }
 ],
 "metadata": {
  "kernelspec": {
   "display_name": "newWSIreg",
   "language": "python",
   "name": "python3"
  },
  "language_info": {
   "codemirror_mode": {
    "name": "ipython",
    "version": 3
   },
   "file_extension": ".py",
   "mimetype": "text/x-python",
   "name": "python",
   "nbconvert_exporter": "python",
   "pygments_lexer": "ipython3",
   "version": "3.11.0"
  },
  "orig_nbformat": 4,
  "vscode": {
   "interpreter": {
    "hash": "0505c31f87fc9a9a1776e451ce8c0cfe74aed1c5c9fd32a3d605b1f70a6782f2"
   }
  }
 },
 "nbformat": 4,
 "nbformat_minor": 2
}
